{
 "cells": [
  {
   "cell_type": "code",
   "execution_count": null,
   "id": "55db350f",
   "metadata": {},
   "outputs": [],
   "source": [
    "# What exactly is []?\n",
    "list is collection of various data types like string ,int ,bool etc\n"
   ]
  },
  {
   "cell_type": "code",
   "execution_count": null,
   "id": "d6e76953",
   "metadata": {},
   "outputs": [],
   "source": [
    "# 2. In a list of values stored in a variable called spam, how would you assign the value &#39;hello&#39; as the\n",
    "# third value? (Assume [2, 4, 6, 8, 10] are in spam.)\n",
    "spam = [2,4,6,8,10]\n",
    "spam[2]=\"hello\"\n",
    "print(spam)"
   ]
  },
  {
   "cell_type": "code",
   "execution_count": null,
   "id": "de3dd60b",
   "metadata": {},
   "outputs": [],
   "source": [
    "# Let&#39;s pretend the spam includes the list [&#39;a&#39;, &#39;b&#39;, &#39;c&#39;, &#39;d&#39;] for the next three queries.\n",
    "spam = [\"a\",\"b\",\"c\",\"d\"]\n"
   ]
  },
  {
   "cell_type": "code",
   "execution_count": null,
   "id": "b16143c2",
   "metadata": {},
   "outputs": [],
   "source": [
    "# What is the value of spam[[int(int('3' * 2) / 11)]?\n",
    "spam = [\"a\",\"b\",\"c\",\"d\"]   \n",
    "print(spam[[int(int('3' * 2) / 11)]])\n",
    "output = list indices must be integers or slices, not list"
   ]
  },
  {
   "cell_type": "code",
   "execution_count": null,
   "id": "cae4f68f",
   "metadata": {},
   "outputs": [],
   "source": [
    "spam[-1]"
   ]
  },
  {
   "cell_type": "code",
   "execution_count": null,
   "id": "96e79ed2",
   "metadata": {},
   "outputs": [],
   "source": [
    "# What is the value of spam[:2]?\n",
    "print(spam[:2])"
   ]
  },
  {
   "cell_type": "code",
   "execution_count": null,
   "id": "2aafbb2e",
   "metadata": {},
   "outputs": [],
   "source": [
    "l= [3.14, 'cat' ,11, 'cat', True]\n",
    "l.index(\"cat\")"
   ]
  },
  {
   "cell_type": "code",
   "execution_count": null,
   "id": "bfa160b4",
   "metadata": {},
   "outputs": [],
   "source": [
    "# l.append(99)  = [3.14,\"cat\",11,\"cat\",99]  change this way"
   ]
  },
  {
   "cell_type": "code",
   "execution_count": null,
   "id": "220cc047",
   "metadata": {},
   "outputs": [],
   "source": [
    "# How does bacon.remove('cat') change the look of the list in bacon?\n",
    "l.remove(\"cat\")\n",
    "l"
   ]
  },
  {
   "cell_type": "code",
   "execution_count": null,
   "id": "791abb7b",
   "metadata": {},
   "outputs": [],
   "source": [
    "#  What are the list concatenation and list replication operators?\n",
    "# list concation = merging of two list irespective of size\n",
    "l = [4,5]\n",
    "l1 = [\"L\",\"P\",7,8,9,30]\n",
    "l+l1"
   ]
  },
  {
   "cell_type": "code",
   "execution_count": null,
   "id": "4c248ebc",
   "metadata": {},
   "outputs": [],
   "source": [
    "# list replication = maka a copy of list\n",
    "l3 = l\n",
    "l3"
   ]
  },
  {
   "cell_type": "code",
   "execution_count": null,
   "id": "30ba6661",
   "metadata": {},
   "outputs": [],
   "source": [
    "# What is difference between the list methods append() and insert()?\n",
    "append()= add elements at the last index\n",
    "insert()= we can insert value at any desired index"
   ]
  },
  {
   "cell_type": "code",
   "execution_count": null,
   "id": "9adfe981",
   "metadata": {},
   "outputs": [],
   "source": [
    "# What are the two methods for removing items from a list?\n",
    "list.remove() and list.pop()"
   ]
  },
  {
   "cell_type": "code",
   "execution_count": null,
   "id": "9ae79110",
   "metadata": {},
   "outputs": [],
   "source": [
    "# Describe how list values and string values are identical.\n",
    "list  and string values both used index to give values and start index of both is 0\n"
   ]
  },
  {
   "cell_type": "code",
   "execution_count": null,
   "id": "51661527",
   "metadata": {},
   "outputs": [],
   "source": [
    "# What's the difference between tuples and lists?\n",
    "The key difference between the tuples and lists is that while the tuples are immutable objects the lists are mutable"
   ]
  },
  {
   "cell_type": "code",
   "execution_count": 3,
   "id": "774c8d53",
   "metadata": {},
   "outputs": [
    {
     "name": "stdout",
     "output_type": "stream",
     "text": [
      "[42]\n"
     ]
    }
   ],
   "source": [
    "# How do you type a tuple value that only contains the integer 42?\n",
    "# bye typecasting we can convert tuples to list\n",
    "a = (42)\n",
    "b = [a]\n",
    "print(b)"
   ]
  },
  {
   "cell_type": "code",
   "execution_count": 9,
   "id": "a45a8108",
   "metadata": {},
   "outputs": [
    {
     "name": "stdout",
     "output_type": "stream",
     "text": [
      "[(45, 6, 8, 9, 3)]\n",
      "((45, 6, 8, 9, 3),)\n"
     ]
    }
   ],
   "source": [
    "# How do you get a list value's tuple form? How do you get a tuple value's list form?\n",
    "a = (45,6,8,9,3)\n",
    "b = [a]\n",
    "print(b)\n",
    "c = list(b)\n",
    "print(tuple(c))"
   ]
  },
  {
   "cell_type": "code",
   "execution_count": null,
   "id": "ca661c79",
   "metadata": {},
   "outputs": [],
   "source": [
    "#  Variables that \"contain\" list values are not necessarily lists themselves. Instead, what do they contain?\n",
    "they can be string ,int ,etc\n"
   ]
  },
  {
   "cell_type": "code",
   "execution_count": null,
   "id": "c79b2b29",
   "metadata": {},
   "outputs": [],
   "source": [
    "# How do you distinguish between copy.copy() and copy.deepcopy()?\n",
    "copy.copy(x)\n",
    "Return a shallow copy of x.\n",
    "it will change the element in both copy and original list\n",
    "\n",
    "copy.deepcopy()\n",
    "Return a deep copy of x.\n",
    "change only copy list not original list"
   ]
  },
  {
   "cell_type": "code",
   "execution_count": 22,
   "id": "dd8662c3",
   "metadata": {},
   "outputs": [
    {
     "name": "stdout",
     "output_type": "stream",
     "text": [
      "[1, 2, [789, 24], 66]\n",
      "[1, 2, [789, 24], 66]\n"
     ]
    }
   ],
   "source": [
    "import copy\n",
    "original = [1,2,[25,24],66]\n",
    "copy_list = copy.copy(original)\n",
    "deep= copy.deepcopy(original)\n",
    "# print(copy_list)\n",
    "# print(original)\n",
    "copy_list[2][0]=789\n",
    "print(copy_list)\n",
    "print(original)"
   ]
  },
  {
   "cell_type": "code",
   "execution_count": null,
   "id": "30d0e089",
   "metadata": {},
   "outputs": [],
   "source": []
  }
 ],
 "metadata": {
  "kernelspec": {
   "display_name": "Python 3 (ipykernel)",
   "language": "python",
   "name": "python3"
  },
  "language_info": {
   "codemirror_mode": {
    "name": "ipython",
    "version": 3
   },
   "file_extension": ".py",
   "mimetype": "text/x-python",
   "name": "python",
   "nbconvert_exporter": "python",
   "pygments_lexer": "ipython3",
   "version": "3.9.12"
  }
 },
 "nbformat": 4,
 "nbformat_minor": 5
}
